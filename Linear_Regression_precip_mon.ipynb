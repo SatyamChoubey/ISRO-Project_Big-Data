{
 "cells": [
  {
   "cell_type": "code",
   "execution_count": 5,
   "metadata": {},
   "outputs": [],
   "source": [
    "import pandas as pd\n",
    "import xarray as xr\n",
    "import matplotlib.pyplot as plt\n",
    "import matplotlib.animation as animation\n",
    "import cartopy.feature as cfeat\n",
    "import cartopy.crs as ccrs\n",
    "import seaborn as sns\n",
    "%matplotlib inline"
   ]
  },
  {
   "cell_type": "code",
   "execution_count": 7,
   "metadata": {},
   "outputs": [
    {
     "name": "stdout",
     "output_type": "stream",
     "text": [
      "           lat     lon  nv       time  time_bnds  lat_bnds  lon_bnds    precip\n",
      "5175384   1.25   31.25   0 1993-01-01 1993-01-01       0.0      30.0  1.921471\n",
      "5175385   1.25   31.25   0 1993-02-01 1993-02-01       0.0      30.0  2.759369\n",
      "5175386   1.25   31.25   0 1993-03-01 1993-03-01       0.0      30.0  3.329423\n",
      "5175387   1.25   31.25   0 1993-04-01 1993-04-01       0.0      30.0  5.320088\n",
      "5175388   1.25   31.25   0 1993-05-01 1993-05-01       0.0      30.0  6.852609\n",
      "...        ...     ...  ..        ...        ...       ...       ...       ...\n",
      "7649065  43.75  118.75   1 2002-08-01 2002-09-01      45.0     120.0  1.675602\n",
      "7649066  43.75  118.75   1 2002-09-01 2002-10-01      45.0     120.0  0.333059\n",
      "7649067  43.75  118.75   1 2002-10-01 2002-11-01      45.0     120.0  0.739434\n",
      "7649068  43.75  118.75   1 2002-11-01 2002-12-01      45.0     120.0  0.067391\n",
      "7649069  43.75  118.75   1 2002-12-01 2003-01-01      45.0     120.0  0.089280\n",
      "\n",
      "[155520 rows x 8 columns]\n"
     ]
    }
   ],
   "source": [
    "ds = xr.open_mfdataset(\"/home/satyam/Documents/Thesis_Work/Data1/precip.mon.mean.nc\")\n",
    "# It required as pandas dataframe\n",
    "df = ds.to_dataframe().reset_index()\n",
    "df = df[(df[\"time\"] >= pd.to_datetime(\"1993-01-01\")) & (df[\"time\"] < pd.to_datetime(\"2002-12-31\"))]\n",
    "precip = df[(df[\"lon\"] > 30) & (df[\"lon\"] < 120) & (df[\"lat\"] > 0) & (df[\"lat\"] < 45)]\n",
    "print(precip)"
   ]
  },
  {
   "cell_type": "code",
   "execution_count": 21,
   "metadata": {},
   "outputs": [],
   "source": [
    "x= precip.iloc[:,0:7]     # except precip columns , take other columns as independent variable\n",
    "y = precip[\"precip\"] #  considering precip column as dependent variable.\n"
   ]
  },
  {
   "cell_type": "code",
   "execution_count": 22,
   "metadata": {},
   "outputs": [
    {
     "name": "stdout",
     "output_type": "stream",
     "text": [
      "           lat     lon  nv       time  time_bnds  lat_bnds  lon_bnds\n",
      "5175384   1.25   31.25   0 1993-01-01 1993-01-01       0.0      30.0\n",
      "5175385   1.25   31.25   0 1993-02-01 1993-02-01       0.0      30.0\n",
      "5175386   1.25   31.25   0 1993-03-01 1993-03-01       0.0      30.0\n",
      "5175387   1.25   31.25   0 1993-04-01 1993-04-01       0.0      30.0\n",
      "5175388   1.25   31.25   0 1993-05-01 1993-05-01       0.0      30.0\n",
      "...        ...     ...  ..        ...        ...       ...       ...\n",
      "7649065  43.75  118.75   1 2002-08-01 2002-09-01      45.0     120.0\n",
      "7649066  43.75  118.75   1 2002-09-01 2002-10-01      45.0     120.0\n",
      "7649067  43.75  118.75   1 2002-10-01 2002-11-01      45.0     120.0\n",
      "7649068  43.75  118.75   1 2002-11-01 2002-12-01      45.0     120.0\n",
      "7649069  43.75  118.75   1 2002-12-01 2003-01-01      45.0     120.0\n",
      "\n",
      "[155520 rows x 7 columns]\n"
     ]
    }
   ],
   "source": [
    "print(x)"
   ]
  },
  {
   "cell_type": "code",
   "execution_count": 23,
   "metadata": {},
   "outputs": [
    {
     "name": "stdout",
     "output_type": "stream",
     "text": [
      "5175384    1.921471\n",
      "5175385    2.759369\n",
      "5175386    3.329423\n",
      "5175387    5.320088\n",
      "5175388    6.852609\n",
      "             ...   \n",
      "7649065    1.675602\n",
      "7649066    0.333059\n",
      "7649067    0.739434\n",
      "7649068    0.067391\n",
      "7649069    0.089280\n",
      "Name: precip, Length: 155520, dtype: float32\n"
     ]
    }
   ],
   "source": [
    "print(y)"
   ]
  },
  {
   "cell_type": "code",
   "execution_count": 10,
   "metadata": {},
   "outputs": [
    {
     "data": {
      "image/png": "[encoded data removed]",
      "text/plain": [
       "<Figure size 432x288 with 2 Axes>"
      ]
     },
     "metadata": {
      "needs_background": "light"
     },
     "output_type": "display_data"
    }
   ],
   "source": [
    "# code to plot correlation\n",
    "\n",
    "#library to establish correlation\n",
    "import seaborn as sns\n",
    "names= []\n",
    "\n",
    "# creating a correlation matrix\n",
    "correlations = precip.corr()\n",
    "sns.heatmap(correlations,square=True,cmap= \"YlGnBu\")\n",
    "plt.yticks(rotation=0)\n",
    "plt.xticks(rotation=90)\n",
    "plt.show()       # 1.0 value gives perfect positive correlation"
   ]
  },
  {
   "cell_type": "code",
   "execution_count": 29,
   "metadata": {},
   "outputs": [
    {
     "data": {
      "text/html": [
       "<div>\n",
       "<style scoped>\n",
       "    .dataframe tbody tr th:only-of-type {\n",
       "        vertical-align: middle;\n",
       "    }\n",
       "\n",
       "    .dataframe tbody tr th {\n",
       "        vertical-align: top;\n",
       "    }\n",
       "\n",
       "    .dataframe thead th {\n",
       "        text-align: right;\n",
       "    }\n",
       "</style>\n",
       "<table border=\"1\" class=\"dataframe\">\n",
       "  <thead>\n",
       "    <tr style=\"text-align: right;\">\n",
       "      <th></th>\n",
       "      <th>lat</th>\n",
       "      <th>lon</th>\n",
       "      <th>nv</th>\n",
       "      <th>time</th>\n",
       "      <th>time_bnds</th>\n",
       "      <th>lat_bnds</th>\n",
       "      <th>lon_bnds</th>\n",
       "      <th>precip</th>\n",
       "    </tr>\n",
       "  </thead>\n",
       "  <tbody>\n",
       "    <tr>\n",
       "      <th>5175384</th>\n",
       "      <td>1.25</td>\n",
       "      <td>31.25</td>\n",
       "      <td>0</td>\n",
       "      <td>1993-01-01</td>\n",
       "      <td>1993-01-01</td>\n",
       "      <td>0.0</td>\n",
       "      <td>30.0</td>\n",
       "      <td>1.921471</td>\n",
       "    </tr>\n",
       "    <tr>\n",
       "      <th>5175385</th>\n",
       "      <td>1.25</td>\n",
       "      <td>31.25</td>\n",
       "      <td>0</td>\n",
       "      <td>1993-02-01</td>\n",
       "      <td>1993-02-01</td>\n",
       "      <td>0.0</td>\n",
       "      <td>30.0</td>\n",
       "      <td>2.759369</td>\n",
       "    </tr>\n",
       "    <tr>\n",
       "      <th>5175386</th>\n",
       "      <td>1.25</td>\n",
       "      <td>31.25</td>\n",
       "      <td>0</td>\n",
       "      <td>1993-03-01</td>\n",
       "      <td>1993-03-01</td>\n",
       "      <td>0.0</td>\n",
       "      <td>30.0</td>\n",
       "      <td>3.329423</td>\n",
       "    </tr>\n",
       "    <tr>\n",
       "      <th>5175387</th>\n",
       "      <td>1.25</td>\n",
       "      <td>31.25</td>\n",
       "      <td>0</td>\n",
       "      <td>1993-04-01</td>\n",
       "      <td>1993-04-01</td>\n",
       "      <td>0.0</td>\n",
       "      <td>30.0</td>\n",
       "      <td>5.320088</td>\n",
       "    </tr>\n",
       "    <tr>\n",
       "      <th>5175388</th>\n",
       "      <td>1.25</td>\n",
       "      <td>31.25</td>\n",
       "      <td>0</td>\n",
       "      <td>1993-05-01</td>\n",
       "      <td>1993-05-01</td>\n",
       "      <td>0.0</td>\n",
       "      <td>30.0</td>\n",
       "      <td>6.852609</td>\n",
       "    </tr>\n",
       "  </tbody>\n",
       "</table>\n",
       "</div>"
      ],
      "text/plain": [
       "          lat    lon  nv       time  time_bnds  lat_bnds  lon_bnds    precip\n",
       "5175384  1.25  31.25   0 1993-01-01 1993-01-01       0.0      30.0  1.921471\n",
       "5175385  1.25  31.25   0 1993-02-01 1993-02-01       0.0      30.0  2.759369\n",
       "5175386  1.25  31.25   0 1993-03-01 1993-03-01       0.0      30.0  3.329423\n",
       "5175387  1.25  31.25   0 1993-04-01 1993-04-01       0.0      30.0  5.320088\n",
       "5175388  1.25  31.25   0 1993-05-01 1993-05-01       0.0      30.0  6.852609"
      ]
     },
     "execution_count": 29,
     "metadata": {},
     "output_type": "execute_result"
    }
   ],
   "source": [
    "precip.head()"
   ]
  },
  {
   "cell_type": "code",
   "execution_count": 30,
   "metadata": {},
   "outputs": [
    {
     "data": {
      "text/html": [
       "<div>\n",
       "<style scoped>\n",
       "    .dataframe tbody tr th:only-of-type {\n",
       "        vertical-align: middle;\n",
       "    }\n",
       "\n",
       "    .dataframe tbody tr th {\n",
       "        vertical-align: top;\n",
       "    }\n",
       "\n",
       "    .dataframe thead th {\n",
       "        text-align: right;\n",
       "    }\n",
       "</style>\n",
       "<table border=\"1\" class=\"dataframe\">\n",
       "  <thead>\n",
       "    <tr style=\"text-align: right;\">\n",
       "      <th></th>\n",
       "      <th>lat</th>\n",
       "      <th>lon</th>\n",
       "      <th>nv</th>\n",
       "      <th>time</th>\n",
       "      <th>time_bnds</th>\n",
       "      <th>lat_bnds</th>\n",
       "      <th>lon_bnds</th>\n",
       "    </tr>\n",
       "  </thead>\n",
       "  <tbody>\n",
       "    <tr>\n",
       "      <th>5175384</th>\n",
       "      <td>1.25</td>\n",
       "      <td>31.25</td>\n",
       "      <td>0</td>\n",
       "      <td>1993-01-01</td>\n",
       "      <td>1993-01-01</td>\n",
       "      <td>0.0</td>\n",
       "      <td>30.0</td>\n",
       "    </tr>\n",
       "    <tr>\n",
       "      <th>5175385</th>\n",
       "      <td>1.25</td>\n",
       "      <td>31.25</td>\n",
       "      <td>0</td>\n",
       "      <td>1993-02-01</td>\n",
       "      <td>1993-02-01</td>\n",
       "      <td>0.0</td>\n",
       "      <td>30.0</td>\n",
       "    </tr>\n",
       "    <tr>\n",
       "      <th>5175386</th>\n",
       "      <td>1.25</td>\n",
       "      <td>31.25</td>\n",
       "      <td>0</td>\n",
       "      <td>1993-03-01</td>\n",
       "      <td>1993-03-01</td>\n",
       "      <td>0.0</td>\n",
       "      <td>30.0</td>\n",
       "    </tr>\n",
       "    <tr>\n",
       "      <th>5175387</th>\n",
       "      <td>1.25</td>\n",
       "      <td>31.25</td>\n",
       "      <td>0</td>\n",
       "      <td>1993-04-01</td>\n",
       "      <td>1993-04-01</td>\n",
       "      <td>0.0</td>\n",
       "      <td>30.0</td>\n",
       "    </tr>\n",
       "    <tr>\n",
       "      <th>5175388</th>\n",
       "      <td>1.25</td>\n",
       "      <td>31.25</td>\n",
       "      <td>0</td>\n",
       "      <td>1993-05-01</td>\n",
       "      <td>1993-05-01</td>\n",
       "      <td>0.0</td>\n",
       "      <td>30.0</td>\n",
       "    </tr>\n",
       "  </tbody>\n",
       "</table>\n",
       "</div>"
      ],
      "text/plain": [
       "          lat    lon  nv       time  time_bnds  lat_bnds  lon_bnds\n",
       "5175384  1.25  31.25   0 1993-01-01 1993-01-01       0.0      30.0\n",
       "5175385  1.25  31.25   0 1993-02-01 1993-02-01       0.0      30.0\n",
       "5175386  1.25  31.25   0 1993-03-01 1993-03-01       0.0      30.0\n",
       "5175387  1.25  31.25   0 1993-04-01 1993-04-01       0.0      30.0\n",
       "5175388  1.25  31.25   0 1993-05-01 1993-05-01       0.0      30.0"
      ]
     },
     "execution_count": 30,
     "metadata": {},
     "output_type": "execute_result"
    }
   ],
   "source": [
    "# The precipitation value indicated by the variable 'precip' is our target variable\n",
    "# and the remaining are the feature variables based on which we will predict the precipitation value.\n",
    "precip1 = precip.iloc[:,0:7] \n",
    "precip1.head()     # We can see that the target value 'precip' is missing from the data"
   ]
  },
  {
   "cell_type": "code",
   "execution_count": 32,
   "metadata": {},
   "outputs": [
    {
     "data": {
      "text/plain": [
       "lat          0\n",
       "lon          0\n",
       "nv           0\n",
       "time         0\n",
       "time_bnds    0\n",
       "lat_bnds     0\n",
       "lon_bnds     0\n",
       "dtype: int64"
      ]
     },
     "execution_count": 32,
     "metadata": {},
     "output_type": "execute_result"
    }
   ],
   "source": [
    "# Data Preprocessing\n",
    "#  We count the number of missing values for each feature using isnull()\n",
    "precip1.isnull().sum()"
   ]
  },
  {
   "cell_type": "code",
   "execution_count": 35,
   "metadata": {},
   "outputs": [
    {
     "data": {
      "image/png": "[encoded data removed]",
      "text/plain": [
       "<Figure size 842.4x595.44 with 1 Axes>"
      ]
     },
     "metadata": {},
     "output_type": "display_data"
    }
   ],
   "source": [
    "# Exploratory Data Analysis\n",
    "# Exploratory Data Analysis is a very important step before training the model.\n",
    "# we will use some visualizations to understand the relationship of the target variable with other features.\n",
    "# plot the distribution of the target variable . We will use the distplot function from the seaborn library.\n",
    "\n",
    "sns.set(rc={'figure.figsize':(11.7,8.27)})\n",
    "sns.distplot(precip['precip'], bins=30)\n",
    "plt.show()\n",
    "# We see that the values of 'precip' are distributed with gamma distibution when alpha=3 and beta=0.5 with few outliers."
   ]
  },
  {
   "cell_type": "code",
   "execution_count": 36,
   "metadata": {},
   "outputs": [
    {
     "data": {
      "text/plain": [
       "<matplotlib.axes._subplots.AxesSubplot at 0x7f7fa8d04c70>"
      ]
     },
     "execution_count": 36,
     "metadata": {},
     "output_type": "execute_result"
    },
    {
     "data": {
      "image/png": "[encoded data removed]",
      "text/plain": [
       "<Figure size 842.4x595.44 with 2 Axes>"
      ]
     },
     "metadata": {},
     "output_type": "display_data"
    }
   ],
   "source": [
    "# we create a correlation matrix that measures the linear relationships between the variables.\n",
    "# The correlation matrix can be formed by using the corr function from the pandas dataframe library.\n",
    "# We will use the heatmap function from the seaborn library to plot the correlation matrix.\n",
    "correlation_matrix = precip.corr().round(2)\n",
    "# annot = True to print the values inside the square\n",
    "sns.heatmap(data=correlation_matrix, annot=True)\n",
    "\n",
    "# The correlation coefficient ranges from -1 to 1. If the value is close to 1, it means that there is a strong positive correlation between the two variables. \n",
    "# When it is close to -1, the variables have a strong negative correlation."
   ]
  },
  {
   "cell_type": "code",
   "execution_count": 38,
   "metadata": {},
   "outputs": [
    {
     "data": {
      "image/png": "[encoded data removed]",
      "text/plain": [
       "<Figure size 1440x360 with 2 Axes>"
      ]
     },
     "metadata": {},
     "output_type": "display_data"
    }
   ],
   "source": [
    "# To fit a linear regression model, we select those features which have a high correlation with our target variable 'precip'.\n",
    "# By looking at the correlation matrix we can see that lon and lon_bnds have a high positive correlation with preip (0.35) where as lat and lat_bnds have a high negative correlation with precip(-0.34).\n",
    "\n",
    "# Based on the above observations we will take lat and lon as our features. \n",
    "# Using a scatter plot let’s see how these features vary with precip.\n",
    "\n",
    "\n",
    "plt.figure(figsize=(20, 5))\n",
    "\n",
    "features = ['lat', 'lon']\n",
    "target = precip['precip']\n",
    "\n",
    "for i, col in enumerate(features):\n",
    "    plt.subplot(1, len(features) , i+1)\n",
    "    x = precip1[col]\n",
    "    y = target\n",
    "    plt.scatter(x, y, marker='o')\n",
    "    plt.title(col)\n",
    "    plt.xlabel(col)\n",
    "    plt.ylabel('precip')\n",
    "    \n",
    "# The precip first increase then approx. decreases as the value of lat increases. \n",
    "# Though it doesn't look to be following exactly linear line. \n",
    "# There are few outliers and the data seems to be capped at 40.\n",
    "# The precip look like to increase with increase in lon but with the some variations. \n",
    "# Though it doesn’t look to be following exactly a linear line. \n",
    "# BUt"
   ]
  },
  {
   "cell_type": "code",
   "execution_count": 39,
   "metadata": {},
   "outputs": [
    {
     "data": {
      "image/png": "[encoded data removed]",
      "text/plain": [
       "<Figure size 1440x360 with 2 Axes>"
      ]
     },
     "metadata": {},
     "output_type": "display_data"
    }
   ],
   "source": [
    "# Check similar works with lat_bnds and lon_bnds\n",
    "plt.figure(figsize=(20, 5))\n",
    "\n",
    "features = ['lat_bnds', 'lon_bnds']\n",
    "target = precip['precip']\n",
    "\n",
    "for i, col in enumerate(features):\n",
    "    plt.subplot(1, len(features) , i+1)\n",
    "    x = precip1[col]\n",
    "    y = target\n",
    "    plt.scatter(x, y, marker='o')\n",
    "    plt.title(col)\n",
    "    plt.xlabel(col)\n",
    "    plt.ylabel('precip')\n",
    "    \n",
    "# Getting approx. same type of scatter plot."
   ]
  },
  {
   "cell_type": "code",
   "execution_count": 41,
   "metadata": {},
   "outputs": [],
   "source": [
    "# Preparing the data for training the model\n",
    "# We concatenate the lat and lon columns using np.c_ provided by the numpy library.\n",
    "import numpy as np\n",
    "X = pd.DataFrame(np.c_[precip1['lat'], precip1['lon']], columns = ['lat','lon'])\n",
    "Y = precip['precip']"
   ]
  },
  {
   "cell_type": "code",
   "execution_count": 42,
   "metadata": {},
   "outputs": [
    {
     "name": "stdout",
     "output_type": "stream",
     "text": [
      "(124416, 2)\n",
      "(31104, 2)\n",
      "(124416,)\n",
      "(31104,)\n"
     ]
    }
   ],
   "source": [
    "# Splitting the data into training and testing sets\n",
    "# We train the model with 80% of the samples and test with the remaining 20%.\n",
    "# To split the data we use train_test_split function provided by scikit-learn library.\n",
    "# We finally print the sizes of our training and test set to verify if the splitting has occurred properly.\n",
    "from sklearn.model_selection import train_test_split\n",
    "\n",
    "X_train, X_test, Y_train, Y_test = train_test_split(X, Y, test_size = 0.2, random_state=5)\n",
    "print(X_train.shape)\n",
    "print(X_test.shape)\n",
    "print(Y_train.shape)\n",
    "print(Y_test.shape)"
   ]
  },
  {
   "cell_type": "code",
   "execution_count": 43,
   "metadata": {},
   "outputs": [
    {
     "data": {
      "text/plain": [
       "LinearRegression()"
      ]
     },
     "execution_count": 43,
     "metadata": {},
     "output_type": "execute_result"
    }
   ],
   "source": [
    "# We use scikit-learn’s LinearRegression to train our model on both the training and test sets.\n",
    "from sklearn.linear_model import LinearRegression\n",
    "from sklearn.metrics import mean_squared_error\n",
    "\n",
    "lin_model = LinearRegression()\n",
    "lin_model.fit(X_train, Y_train)"
   ]
  },
  {
   "cell_type": "code",
   "execution_count": 44,
   "metadata": {},
   "outputs": [
    {
     "name": "stdout",
     "output_type": "stream",
     "text": [
      "The model performance for training set\n",
      "--------------------------------------\n",
      "RMSE is 2.9883477066100737\n",
      "R2 score is 0.23955239193428912\n",
      "\n",
      "\n",
      "The model performance for testing set\n",
      "--------------------------------------\n",
      "RMSE is 3.029020522858691\n",
      "R2 score is 0.23136884695257975\n"
     ]
    }
   ],
   "source": [
    "# model evaluation for training set\n",
    "y_train_predict = lin_model.predict(X_train)\n",
    "rmse = (np.sqrt(mean_squared_error(Y_train, y_train_predict)))\n",
    "\n",
    "from sklearn.metrics import r2_score\n",
    "r2 = r2_score(Y_train, y_train_predict)\n",
    "\n",
    "print(\"The model performance for training set\")\n",
    "print(\"--------------------------------------\")\n",
    "print('RMSE is {}'.format(rmse))\n",
    "print('R2 score is {}'.format(r2))\n",
    "print(\"\\n\")\n",
    "\n",
    "#=========================================================================================\n",
    "# model evaluation for testing set\n",
    "y_test_predict = lin_model.predict(X_test)\n",
    "rmse = (np.sqrt(mean_squared_error(Y_test, y_test_predict)))\n",
    "r2 = r2_score(Y_test, y_test_predict)\n",
    "\n",
    "print(\"The model performance for testing set\")\n",
    "print(\"--------------------------------------\")\n",
    "print('RMSE is {}'.format(rmse))\n",
    "print('R2 score is {}'.format(r2))"
   ]
  },
  {
   "cell_type": "code",
   "execution_count": null,
   "metadata": {},
   "outputs": [],
   "source": [
    "#========================================================================================================\n",
    "# R2 score means the proportion of the variance in the dependent variable that is predictable from the independent variable(s).\n",
    "# according to Cohen (1992)  r-square value .12 or below indicate low, between .13 to .25 values indicate medium, .26 or above and above values indicate high effect size. \n",
    "# So, here it is medium.\n",
    "# RMSE of test > RMSE of train => OVER FITTING of the data.\n",
    "# There is no fixed threshold limit for RMSE and R squared. It is always better to have RMSE as low as possible.\n",
    "# RMSE close to zero and R-Square approaching 1 are indicative of high accuracy between observed and predicted values"
   ]
  }
 ],
 "metadata": {
  "kernelspec": {
   "display_name": "Python 3",
   "language": "python",
   "name": "python3"
  },
  "language_info": {
   "codemirror_mode": {
    "name": "ipython",
    "version": 3
   },
   "file_extension": ".py",
   "mimetype": "text/x-python",
   "name": "python",
   "nbconvert_exporter": "python",
   "pygments_lexer": "ipython3",
   "version": "3.8.3"
  }
 },
 "nbformat": 4,
 "nbformat_minor": 4
}
